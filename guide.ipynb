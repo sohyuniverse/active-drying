{
 "cells": [
  {
   "cell_type": "markdown",
   "metadata": {},
   "source": [
    "# Instructions for Running\n",
    "\n",
    "## 1. Compile New Code\n",
    "Whenever new code is added to the `src` folder, compile it by running the following commands:\n",
    "\n",
    "```bash\n",
    "cd ~/mylammps/src/\n",
    "make -j 32 mpi\n",
    "```\n",
    "\n",
    "## 2. Run with MPI\n",
    "To execute the program using MPI, follow these steps:\n",
    "\n",
    "1. Connect to the BluePebble cluster:\n",
    "   ```bash\n",
    "   ssh -X sp13328@bp1-login.acrc.bris.ac.uk\n",
    "   ```\n",
    "\n",
    "To connect from home, use the 'UoB VPN' with the F5Access application.\n",
    "\n",
    "2. Run the simulation:\n",
    "   ```bash\n",
    "   mpirun -np 4 ~/mylammps/src/lmp_mpi -in equilibrate.lmp\n",
    "   ```\n",
    "\n",
    "   To specify additional variables, use:\n",
    "   ```bash\n",
    "   mpirun -np 4 ~/mylammps/src/lmp_mpi -in equilibrate.lmp -var rho 0.6 -var Pe 36 -var dumpfolder dumps -var seed 12345\n",
    "   ```\n",
    "\n",
    "## 3. Criticality\n",
    "- Recommended values for 3D simulations:\n",
    "  - $\\text{Pe} \\approx 30$\n",
    "  - $\\rho \\approx 0.6$"
   ]
  },
  {
   "cell_type": "markdown",
   "metadata": {},
   "source": []
  }
 ],
 "metadata": {
  "language_info": {
   "name": "python"
  }
 },
 "nbformat": 4,
 "nbformat_minor": 2
}
