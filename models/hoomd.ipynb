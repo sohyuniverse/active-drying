{
 "cells": [
  {
   "cell_type": "code",
   "execution_count": null,
   "metadata": {},
   "outputs": [],
   "source": [
    "import numpy as np\n",
    "import hoomd\n",
    "import gsd.hoomd\n",
    "import itertools\n",
    " \n",
    "num_particles = 1000\n",
    "density = 0.5\n",
    " \n",
    "box_volume = num_particles / density\n",
    "L = box_volume ** (1 / 2.0)\n",
    " \n",
    "N = int(np.ceil(num_particles ** (1.0 / 2.0)))\n",
    "x = np.linspace(-L / 2, L / 2, N, endpoint=False)\n",
    " \n",
    "particle_spacing = 1.0\n",
    "if x[1] - x[0] < particle_spacing:\n",
    "    raise RuntimeError('density too high to initialize on square lattice')\n",
    " \n",
    "position_2d = list(itertools.product(x, repeat=2))[:num_particles]\n",
    " \n",
    "# create snapshot\n",
    "device = hoomd.device.CPU()\n",
    " \n",
    "snap = hoomd.Snapshot()\n",
    " \n",
    "snap.particles.N = num_particles\n",
    "snap.particles.types = ['A']\n",
    "snap.configuration.box = [L, L, 0, 0, 0, 0]\n",
    "snap.particles.position[:, 0:2] = position_2d\n",
    "snap.particles.typeid[:] = [0] * num_particles\n",
    " \n",
    "# Use hard sphere Monte-Carlo to randomize the initial configuration\n",
    "mc = hoomd.hpmc.integrate.Sphere(default_d=0.01)\n",
    "mc.shape['A'] = dict(diameter=1.0)\n",
    " \n",
    "sim = hoomd.Simulation(device=device, seed=1)\n",
    "sim.create_state_from_snapshot(snap)\n",
    "sim.operations.integrator = mc\n",
    " \n",
    "RANDOMIZE_STEPS = 10000\n",
    "device.notice('Randomizing initial state...')\n",
    "sim.run(RANDOMIZE_STEPS)\n",
    "device.notice(f'Move counts: {mc.translate_moves}')\n",
    "device.notice('Done.')\n",
    " \n",
    "hoomd.write.GSD.write(\n",
    "state=sim.state, filename='hard_disk_initial_state.gsd', mode='wb'\n",
    ")"
   ]
  },
  {
   "cell_type": "code",
   "execution_count": null,
   "metadata": {},
   "outputs": [],
   "source": [
    "snapshot = sim.state.get_snapshot()\n",
    " \n",
    "pos = snapshot.particles.position\n",
    "x,y = pos[:,0], pos[:,1]\n",
    " \n",
    "import matplotlib.pyplot as plt\n",
    " \n",
    "plt.scatter(x,y)\n",
    "plt.axis('equal')"
   ]
  }
 ],
 "metadata": {
  "kernelspec": {
   "display_name": "Python 3",
   "language": "python",
   "name": "python3"
  },
  "language_info": {
   "codemirror_mode": {
    "name": "ipython",
    "version": 3
   },
   "file_extension": ".py",
   "mimetype": "text/x-python",
   "name": "python",
   "nbconvert_exporter": "python",
   "pygments_lexer": "ipython3",
   "version": "3.9.6"
  }
 },
 "nbformat": 4,
 "nbformat_minor": 2
}
